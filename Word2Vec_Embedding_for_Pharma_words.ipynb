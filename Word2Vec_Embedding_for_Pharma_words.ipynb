{
  "nbformat": 4,
  "nbformat_minor": 0,
  "metadata": {
    "kernelspec": {
      "display_name": "Python 3",
      "language": "python",
      "name": "python3"
    },
    "language_info": {
      "codemirror_mode": {
        "name": "ipython",
        "version": 3
      },
      "file_extension": ".py",
      "mimetype": "text/x-python",
      "name": "python",
      "nbconvert_exporter": "python",
      "pygments_lexer": "ipython3",
      "version": "3.6.5"
    },
    "colab": {
      "provenance": []
    }
  },
  "cells": [
    {
      "cell_type": "code",
      "metadata": {
        "id": "3FB6yNVM5CCj",
        "outputId": "50ea4a51-2f97-4b7e-f09c-a26167601e39",
        "colab": {
          "base_uri": "https://localhost:8080/",
          "height": 122
        }
      },
      "source": [
        "from google.colab import drive\n",
        "drive.mount('/content/drive')"
      ],
      "execution_count": null,
      "outputs": [
        {
          "output_type": "stream",
          "text": [
            "Go to this URL in a browser: https://accounts.google.com/o/oauth2/auth?client_id=947318989803-6bn6qk8qdgf4n4g3pfee6491hc0brc4i.apps.googleusercontent.com&redirect_uri=urn%3aietf%3awg%3aoauth%3a2.0%3aoob&response_type=code&scope=email%20https%3a%2f%2fwww.googleapis.com%2fauth%2fdocs.test%20https%3a%2f%2fwww.googleapis.com%2fauth%2fdrive%20https%3a%2f%2fwww.googleapis.com%2fauth%2fdrive.photos.readonly%20https%3a%2f%2fwww.googleapis.com%2fauth%2fpeopleapi.readonly\n",
            "\n",
            "Enter your authorization code:\n",
            "··········\n",
            "Mounted at /content/drive\n"
          ],
          "name": "stdout"
        }
      ]
    },
    {
      "cell_type": "code",
      "metadata": {
        "id": "FS9tgQRiXwwM"
      },
      "source": [
        "from gensim.models import Word2Vec as w2v\n",
        "import pandas as pd\n",
        "import re"
      ],
      "execution_count": null,
      "outputs": []
    },
    {
      "cell_type": "code",
      "metadata": {
        "id": "pDkiKr4RYchb"
      },
      "source": [
        "df_text=pd.read_excel('/content/drive/My Drive/CHRD/data/word2vec.xlsx')\n",
        "text=df_text['Text'].tolist()"
      ],
      "execution_count": null,
      "outputs": []
    },
    {
      "cell_type": "code",
      "metadata": {
        "id": "kbuO0sgdYqn0"
      },
      "source": [
        "#function for cleaning special characters\n",
        "def rem_splchr(txt):\n",
        "    '''\n",
        "    Function to remove the special characters using regex\n",
        "    convert text to lower\n",
        "    you can remove digits by replacing - re.sub('[\\d\\'\\\"|()|?|$|#|:|;|.]','',i)\n",
        "    '''\n",
        "    te=[]\n",
        "    for tt in range(len(text)):\n",
        "        a=[]\n",
        "        for i in text[tt].split():\n",
        "            cl_t=re.sub('[\\'\\\"|()|?|$|#|:|;|.|%|-]','',i)\n",
        "            a.append(cl_t.lower())\n",
        "        te.append(a)\n",
        "    return(te)\n",
        "\n",
        "#calling function to remove special characters\n",
        "text_l=rem_splchr(text)"
      ],
      "execution_count": null,
      "outputs": []
    },
    {
      "cell_type": "code",
      "metadata": {
        "id": "V48tCvdD7OF3"
      },
      "source": [
        "stopword=['a','is','the','then','was','they','be','of','and']"
      ],
      "execution_count": null,
      "outputs": []
    },
    {
      "cell_type": "code",
      "metadata": {
        "id": "YFcbLCSTNn94",
        "outputId": "a8282095-77d5-4ef0-93e5-c3ede70fc30d",
        "colab": {
          "base_uri": "https://localhost:8080/",
          "height": 54
        }
      },
      "source": [
        "text[1]"
      ],
      "execution_count": null,
      "outputs": [
        {
          "output_type": "execute_result",
          "data": {
            "text/plain": [
              "\"Lesbian, gay, bisexual, and transgender health: Findings and concerns Despite the challenges of defining, measuring and sampling sexual orientation and transgender identity discussed above, researchers are forging ahead with studies that provide important information concerning the links between health, sexual orientation, and transgender identity as well providing valuable insights into the conduct of such research (Israel and Tarver, 1997; Meyer and Colten, 1999; Faulkner and Cranston, 1998; Remafedi et al, 1998; Binson et al., 1995). The most impressive work has perhaps been done in conjunction with the Nurse's Health Study and the Women's Health Initiative, both of which have now included items of sexual orientation in their data collection (Solarz, 1999). The field experience of these researchers should be examined to provide a framework for the conduct of future studies and to begin to resolve the challengers presented in this paper. The most important constraint limited knowledge concerning the health of lesbian, sexual, and transgender people is the collected data from large national on-going population surveys funded by the federal government. To tutor the health of LGBT populations, it is needed to include measures of sexual orientation transgender identity of surveys such as the National Health Interview Survey (NHIS), the National Health and Nutrition Examination Survey (NHANES), and the Youth Risk Behavior Surveillance System (YRBSS) among many others measuring sexual orientation, with NHANES YRBSS each addressing one core aspect f self orientation, that is, sexual orientation identity. Most impressively, NHANES, starting in year 2000, began asking all adult respondents, audio computer-assisted self-interview techniques the following question: 'Do you think of yourself... Heterosexual or straight (that is, attracted to persons of the opposite sex); homosexual, lesbian, gay (that is, attracted to only persons of the same sex); bisexual (that is, attracted to persons of the same and opposite sex)' something else: or you're not sure?' The experience of NHANES, including any information for future researchers concerning the validity and reliability of its measure of sex orientation, and the finding concerning the health of lesbian and gay people, will undoubtedly improve many lives in the United States. With the additional of sexual orientation as a demographic variable additional large federally funded surveys and the selection of transgender identity data as well, life-saving knowledge that has long been considered unimportant or irrelevant will finally be made available.\""
            ]
          },
          "metadata": {
            "tags": []
          },
          "execution_count": 118
        }
      ]
    },
    {
      "cell_type": "code",
      "metadata": {
        "id": "8DWzLBwH7tol"
      },
      "source": [
        "for i in range(len(text_l)):\n",
        "  print(i)"
      ],
      "execution_count": null,
      "outputs": []
    },
    {
      "cell_type": "code",
      "metadata": {
        "id": "xDCFoNQqOHqf",
        "outputId": "2fcb13cd-3f8c-496d-89fe-eac3ad3e2fa4",
        "colab": {
          "base_uri": "https://localhost:8080/",
          "height": 34
        }
      },
      "source": [
        "len(text_l)"
      ],
      "execution_count": null,
      "outputs": [
        {
          "output_type": "execute_result",
          "data": {
            "text/plain": [
              "23524"
            ]
          },
          "metadata": {
            "tags": []
          },
          "execution_count": 121
        }
      ]
    },
    {
      "cell_type": "code",
      "metadata": {
        "id": "klgpD3azpQ4N"
      },
      "source": [
        "tx=[]\n",
        "for i in range(len(text_l)):\n",
        "  t=[]\n",
        "  for j in text_l[i]:\n",
        "    if j not in stopword:\n",
        "      t.append(j)\n",
        "  tx.append(t)"
      ],
      "execution_count": null,
      "outputs": []
    },
    {
      "cell_type": "code",
      "metadata": {
        "id": "dYY1TYKd7iZe",
        "outputId": "06458f42-da46-476d-c28d-e9b546af2853",
        "colab": {
          "base_uri": "https://localhost:8080/",
          "height": 34
        }
      },
      "source": [
        "len(tx)"
      ],
      "execution_count": null,
      "outputs": [
        {
          "output_type": "execute_result",
          "data": {
            "text/plain": [
              "23524"
            ]
          },
          "metadata": {
            "tags": []
          },
          "execution_count": 126
        }
      ]
    },
    {
      "cell_type": "code",
      "metadata": {
        "id": "QxvkyH4HY2uS"
      },
      "source": [
        "tx[1]"
      ],
      "execution_count": null,
      "outputs": []
    },
    {
      "cell_type": "code",
      "metadata": {
        "id": "vaI0A3yfi3Z9",
        "cellView": "code",
        "outputId": "507e8a0c-d554-4d6b-bddb-8d41967cbfb6",
        "colab": {
          "base_uri": "https://localhost:8080/",
          "height": 34
        }
      },
      "source": [
        "#@title Default title text\n",
        "#final version of building custom word 2vec\n",
        "#below are good to have Parameter initlization in for word2vec model.\n",
        "min_count = 5 #min_count it ignores all words with total frequency lower than this.\n",
        "window = 3 #Maximum distance between the current and predicted word within a sentence.\n",
        "size = 300 #Output dimensionality of the word vectors.\n",
        "sample = 1e-7 #float - The threshold for configuring which higher-frequency words are randomly downsampled. Highly influencial. - (0, 1e-5)\n",
        "alpha = 0.04 #The initial learning rate - (0.01, 0.05)\n",
        "min_alpha = 0.001 #Learning rate will linearly drop to min_alpha as training progresses.\n",
        "epochs=30 #no.of epochs to be trained\n",
        "negative=10 #(int, optional) – If > 0, negative sampling will be used, the int for negative specifies how many “noise words” should be drawn (usually between 5-20). If set to 0, no negative sampling is used.\n",
        "\n",
        "#building word 2vec model\n",
        "#initilzing variables\n",
        "model_w2v=w2v(min_count=min_count,window=window,size=size,sample=sample,alpha=alpha,\n",
        "              min_alpha=min_alpha,negative=negative)\n",
        "\n",
        "#building Vocabulary Table\n",
        "model_w2v.build_vocab(tx)\n",
        "\n",
        "#training the model\n",
        "model_w2v.train(tx,total_examples=model_w2v.corpus_count,epochs=epochs)\n"
      ],
      "execution_count": null,
      "outputs": [
        {
          "output_type": "execute_result",
          "data": {
            "text/plain": [
              "(4669074, 122970210)"
            ]
          },
          "metadata": {
            "tags": []
          },
          "execution_count": 133
        }
      ]
    },
    {
      "cell_type": "markdown",
      "metadata": {
        "id": "5UE4vpXXl150"
      },
      "source": [
        "(6137719, 145826100) --300,\n",
        "(6122938, 145826100)  -200,\n",
        "(6079348, 145826100) --150\n",
        "(20264434, 486087000) --150, 100 e\n"
      ]
    },
    {
      "cell_type": "code",
      "metadata": {
        "id": "Qqd4D-RMjmN3",
        "outputId": "0596cbb2-d7bc-4fca-fbfb-e66c82719523",
        "colab": {
          "base_uri": "https://localhost:8080/",
          "height": 34
        }
      },
      "source": [
        "model_w2v"
      ],
      "execution_count": null,
      "outputs": [
        {
          "output_type": "execute_result",
          "data": {
            "text/plain": [
              "<gensim.models.word2vec.Word2Vec at 0x7f824f41dda0>"
            ]
          },
          "metadata": {
            "tags": []
          },
          "execution_count": 94
        }
      ]
    },
    {
      "cell_type": "code",
      "metadata": {
        "id": "YqDS8PTRaPVS",
        "outputId": "06a9a192-41de-4c67-9f75-72987be0d8ec",
        "colab": {
          "base_uri": "https://localhost:8080/",
          "height": 1000
        }
      },
      "source": [
        "model_w2v.wv.most_similar(\"cultivated\",topn=100)"
      ],
      "execution_count": null,
      "outputs": [
        {
          "output_type": "stream",
          "text": [
            "/usr/local/lib/python3.6/dist-packages/gensim/matutils.py:737: FutureWarning: Conversion of the second argument of issubdtype from `int` to `np.signedinteger` is deprecated. In future, it will be treated as `np.int64 == np.dtype(int).type`.\n",
            "  if np.issubdtype(vec.dtype, np.int):\n"
          ],
          "name": "stderr"
        },
        {
          "output_type": "execute_result",
          "data": {
            "text/plain": [
              "[('proglottids', 0.999946117401123),\n",
              " ('house', 0.99994295835495),\n",
              " ('korea,', 0.999942421913147),\n",
              " ('pimt', 0.9999418258666992),\n",
              " ('rnase', 0.999941349029541),\n",
              " ('ap8c3', 0.9999409914016724),\n",
              " ('enlarging', 0.9999409317970276),\n",
              " ('rearrangement', 0.999940812587738),\n",
              " ('protamine', 0.9999407529830933),\n",
              " ('alkaloids', 0.9999405145645142),\n",
              " ('897', 0.9999403953552246),\n",
              " ('speech,', 0.9999402165412903),\n",
              " ('good,', 0.9999400973320007),\n",
              " ('fraction,', 0.999940037727356),\n",
              " ('sumatriptan,', 0.9999397993087769),\n",
              " ('ptld', 0.9999396800994873),\n",
              " ('clc5', 0.9999393224716187),\n",
              " ('metup', 0.9999393224716187),\n",
              " ('cytoplasm,', 0.9999392628669739),\n",
              " ('vegetables,', 0.9999392032623291),\n",
              " ('viscera', 0.9999390244483948),\n",
              " ('defendants', 0.99993896484375),\n",
              " ('[19]', 0.9999388456344604),\n",
              " ('nonhomologous', 0.9999387860298157),\n",
              " ('genbank', 0.9999384880065918),\n",
              " ('call', 0.9999384880065918),\n",
              " ('mpa/e2c', 0.9999383091926575),\n",
              " ('gravid', 0.9999381303787231),\n",
              " ('delusions', 0.9999381303787231),\n",
              " ('pla2s', 0.9999381303787231),\n",
              " ('inositol', 0.9999380707740784),\n",
              " ('carcinogenic', 0.9999380111694336),\n",
              " ('μv', 0.9999379515647888),\n",
              " ('kenya', 0.9999379515647888),\n",
              " ('raising', 0.999937891960144),\n",
              " ('prl', 0.9999378323554993),\n",
              " ('caribbean', 0.9999377727508545),\n",
              " ('1999,', 0.9999376535415649),\n",
              " ('hydroxylation', 0.9999375939369202),\n",
              " ('star', 0.9999375343322754),\n",
              " ('peyers', 0.9999374747276306),\n",
              " ('980', 0.9999374151229858),\n",
              " ('normally,', 0.9999374151229858),\n",
              " ('1989', 0.9999372959136963),\n",
              " ('vglut1', 0.9999371767044067),\n",
              " ('keyhole', 0.999937117099762),\n",
              " ('eraser', 0.999937117099762),\n",
              " ('email', 0.9999370574951172),\n",
              " ('az', 0.9999370574951172),\n",
              " ('d2', 0.9999370574951172),\n",
              " ('quinidine', 0.9999369978904724),\n",
              " ('mbq/kg', 0.9999369382858276),\n",
              " ('awareness,', 0.9999369382858276),\n",
              " ('coexpressing', 0.9999369382858276),\n",
              " ('regeneron', 0.9999369382858276),\n",
              " ('mitt', 0.9999369382858276),\n",
              " ('gtpase', 0.9999368786811829),\n",
              " ('photoreceptor', 0.9999368190765381),\n",
              " ('icr', 0.9999368190765381),\n",
              " ('wf', 0.9999368190765381),\n",
              " ('cannulae', 0.9999368190765381),\n",
              " ('duplex', 0.9999366998672485),\n",
              " ('lselectin', 0.9999366998672485),\n",
              " ('tbars', 0.9999366998672485),\n",
              " ('analyzing', 0.9999366998672485),\n",
              " ('envelopes', 0.9999366402626038),\n",
              " ('rscr', 0.9999366402626038),\n",
              " ('delayed,', 0.999936580657959),\n",
              " ('fox', 0.999936580657959),\n",
              " ('p28', 0.999936580657959),\n",
              " ('opg', 0.999936580657959),\n",
              " ('manifests', 0.9999365210533142),\n",
              " ('diurnal', 0.9999364614486694),\n",
              " ('mhz', 0.9999364614486694),\n",
              " ('substantia', 0.9999364018440247),\n",
              " ('serratia', 0.9999363422393799),\n",
              " ('13acetate', 0.9999362230300903),\n",
              " ('controller', 0.9999362230300903),\n",
              " ('kinetochore', 0.9999362230300903),\n",
              " ('dyes', 0.9999361634254456),\n",
              " ('highsalt', 0.9999361634254456),\n",
              " ('drastic', 0.9999361038208008),\n",
              " ('perspective,', 0.9999361038208008),\n",
              " ('selfadministered', 0.9999361038208008),\n",
              " ('tenecteplase', 0.9999361038208008),\n",
              " ('crude', 0.9999361038208008),\n",
              " ('713', 0.9999361038208008),\n",
              " ('biocompatibility', 0.9999361038208008),\n",
              " ('082,', 0.9999359846115112),\n",
              " ('excimer', 0.9999359250068665),\n",
              " ('morphology,', 0.9999358654022217),\n",
              " ('mtz', 0.9999358654022217),\n",
              " ('society,', 0.9999357461929321),\n",
              " ('orange', 0.9999357461929321),\n",
              " ('eroding', 0.9999357461929321),\n",
              " ('pyridine', 0.9999356865882874),\n",
              " ('flavor', 0.9999356865882874),\n",
              " ('cocaine,', 0.9999356269836426),\n",
              " ('clf1', 0.9999356269836426),\n",
              " ('cooperating', 0.9999356269836426)]"
            ]
          },
          "metadata": {
            "tags": []
          },
          "execution_count": 144
        }
      ]
    },
    {
      "cell_type": "code",
      "metadata": {
        "id": "FRbgB0SRaI_b",
        "outputId": "2ffea7b0-965d-4121-82c3-73abe18e5227",
        "colab": {
          "base_uri": "https://localhost:8080/",
          "height": 34
        }
      },
      "source": [
        "cd'/content/drive/My Drive/CHRD/data/'"
      ],
      "execution_count": null,
      "outputs": [
        {
          "output_type": "stream",
          "text": [
            "/content/drive/My Drive/CHRD/data\n"
          ],
          "name": "stdout"
        }
      ]
    },
    {
      "cell_type": "code",
      "metadata": {
        "id": "aEM5egf7ZaLj"
      },
      "source": [
        "model_w2v.build_vocab(text_l)\n"
      ],
      "execution_count": null,
      "outputs": []
    },
    {
      "cell_type": "code",
      "metadata": {
        "id": "eS7AvWf3ZFt0"
      },
      "source": [
        "#saving model\n",
        "model_w2v.save('chrd_Embeddings.txt')\n",
        "#loading model\n",
        "Chrd_embed = w2v.load('chrd_Embeddings.txt')\n",
        "\n",
        "#identifying most similar words\n",
        "a=Chrd_embed.wv.most_similar(\"clinical\",topn=150)"
      ],
      "execution_count": null,
      "outputs": []
    },
    {
      "cell_type": "code",
      "metadata": {
        "id": "MAiPGLj8i3Uj"
      },
      "source": [
        "#integreating word embeddings with model\n",
        "#function for get weights\n",
        "def get_embedding_weights(gensim_model, tokenizer, max_num_words, embedding_dim):\n",
        "    model = gensim.models.Word2Vec.load(gensim_model)\n",
        "    embedding_matrix = np.zeros((max_num_words, embedding_dim))\n",
        "    for word, i in tokenizer.word_index.items():\n",
        "        if word in model.wv.vocab and i < max_num_words:\n",
        "            embedding_vector = model.wv.vectors[model.wv.vocab[word].index]\n",
        "            embedding_matrix[i] = embedding_vector\n",
        "    return embedding_matrix\n",
        "\n",
        "#creating embedding weights\n",
        "emb_weights = get_embedding_weights(gensim_model='emb_yelp/word2vec',\n",
        "                                    tokenizer=tokenizer,\n",
        "                                    max_num_words=MAX_NUM_WORDS,\n",
        "                                    embedding_dim=EMBEDDING_DIM\n",
        "                                   )\n",
        "\n",
        "#creating embedding layer for keras\n",
        "embedding_layer = Embedding(input_dim=MAX_NUM_WORDS,\n",
        "                            output_dim=EMBEDDING_DIM,\n",
        "                            input_length=MAX_SEQ_LENGTH,\n",
        "                            weights=[emb_weights],\n",
        "                            trainable=False\n",
        "                           )"
      ],
      "execution_count": null,
      "outputs": []
    },
    {
      "cell_type": "code",
      "metadata": {
        "id": "GzrRMs-TfUat"
      },
      "source": [
        "documents = [\"Acute ischaemic stroke Stroke is a common medical emergency. Despite the nihilism that has surrounded stroke medicine\\\n",
        " in the past there are several interventions that have been proven to reduce mortality and morbidity.\\\n",
        "  This review aims to provide an overview of the assessment and treatment of patients with ischaemic stroke.\",\\\n",
        "   \"Recommendations of the French society of cardiology concerning the practice of tests of ischemia provocation in adult nuclear cardiology \"\\\n",
        "   ,\"Mental illness: Genetically complex disorders of neural circuitry and neural communication\"]\n"
      ],
      "execution_count": null,
      "outputs": []
    },
    {
      "cell_type": "code",
      "metadata": {
        "id": "WZiyMWSWe6H9",
        "outputId": "b2e0b60a-bb5e-4934-f7e8-fd416e5ab703",
        "colab": {
          "base_uri": "https://localhost:8080/",
          "height": 122
        }
      },
      "source": [
        "from gensim.models import Phrases\n",
        "from gensim.models.phrases import Phraser\n",
        "\n",
        "\n",
        "sentence_stream = [doc.split(\" \") for doc in documents]\n",
        "print(sentence_stream)\n",
        "\n",
        "bigram = Phrases(sentence_stream, min_count=3, threshold=2)\n",
        "\n",
        "bigram_phraser = Phraser(bigram)\n",
        "\n",
        "print(bigram_phraser)\n",
        "\n",
        "for sent in sentence_stream:\n",
        "    tokens_ = bigram_phraser[sent]\n",
        "\n",
        "    print(tokens_)"
      ],
      "execution_count": null,
      "outputs": [
        {
          "output_type": "stream",
          "text": [
            "[['Acute', 'ischaemic', 'stroke', 'Stroke', 'is', 'a', 'common', 'medical', 'emergency.', 'Despite', 'the', 'nihilism', 'that', 'has', 'surrounded', 'stroke', 'medicine', 'in', 'the', 'past', 'there', 'are', 'several', 'interventions', 'that', 'have', 'been', 'proven', 'to', 'reduce', 'mortality', 'and', 'morbidity.', '', 'This', 'review', 'aims', 'to', 'provide', 'an', 'overview', 'of', 'the', 'assessment', 'and', 'treatment', 'of', 'patients', 'with', 'ischaemic', 'stroke.'], ['Recommendations', 'of', 'the', 'French', 'society', 'of', 'cardiology', 'concerning', 'the', 'practice', 'of', 'tests', 'of', 'ischemia', 'provocation', 'in', 'adult', 'nuclear', 'cardiology', ''], ['Mental', 'illness:', 'Genetically', 'complex', 'disorders', 'of', 'neural', 'circuitry', 'and', 'neural', 'communication']]\n",
            "<gensim.models.phrases.Phraser object at 0x7f823dc650f0>\n",
            "['Acute', 'ischaemic', 'stroke', 'Stroke', 'is', 'a', 'common', 'medical', 'emergency.', 'Despite', 'the', 'nihilism', 'that', 'has', 'surrounded', 'stroke', 'medicine', 'in', 'the', 'past', 'there', 'are', 'several', 'interventions', 'that', 'have', 'been', 'proven', 'to', 'reduce', 'mortality', 'and', 'morbidity.', 'This', 'review', 'aims', 'to', 'provide', 'an', 'overview', 'of', 'the', 'assessment', 'and', 'treatment', 'of', 'patients', 'with', 'ischaemic', 'stroke.']\n",
            "['Recommendations', 'of', 'the', 'French', 'society', 'of', 'cardiology', 'concerning', 'the', 'practice', 'of', 'tests', 'of', 'ischemia', 'provocation', 'in', 'adult', 'nuclear', 'cardiology']\n",
            "['Mental', 'illness:', 'Genetically', 'complex', 'disorders', 'of', 'neural', 'circuitry', 'and', 'neural', 'communication']\n"
          ],
          "name": "stdout"
        }
      ]
    },
    {
      "cell_type": "code",
      "metadata": {
        "id": "TDfqSNeRi3E0"
      },
      "source": [],
      "execution_count": null,
      "outputs": []
    },
    {
      "cell_type": "code",
      "metadata": {
        "id": "EwyVsfmwbf4k"
      },
      "source": [
        "import nltk\n",
        "import gensim.models.word2vec as w2v\n",
        "import sklearn.manifold\n",
        "import numpy as np\n",
        "import matplotlib.pyplot as plt\n",
        "import pandas as pd\n",
        "import seaborn as sns\n",
        "import re"
      ],
      "execution_count": null,
      "outputs": []
    },
    {
      "cell_type": "code",
      "metadata": {
        "id": "TsBxXPOzbf4v",
        "outputId": "4287d385-5726-403d-eabe-c1adfa70f18c",
        "colab": {
          "base_uri": "https://localhost:8080/",
          "height": 102
        }
      },
      "source": [
        "nltk.download(\"punkt\")\n",
        "nltk.download(\"stopwords\")"
      ],
      "execution_count": null,
      "outputs": [
        {
          "output_type": "stream",
          "text": [
            "[nltk_data] Downloading package punkt to /root/nltk_data...\n",
            "[nltk_data]   Unzipping tokenizers/punkt.zip.\n",
            "[nltk_data] Downloading package stopwords to /root/nltk_data...\n",
            "[nltk_data]   Unzipping corpora/stopwords.zip.\n"
          ],
          "name": "stdout"
        },
        {
          "output_type": "execute_result",
          "data": {
            "text/plain": [
              "True"
            ]
          },
          "metadata": {
            "tags": []
          },
          "execution_count": 3
        }
      ]
    },
    {
      "cell_type": "code",
      "metadata": {
        "id": "8d39rDXIbf44"
      },
      "source": [
        "corpus_raw=pd.read_excel(\"/content/drive/My Drive/CHRD/New train/train_150_3500.xlsx\")"
      ],
      "execution_count": null,
      "outputs": []
    },
    {
      "cell_type": "code",
      "metadata": {
        "id": "CX7_zsog5TdT"
      },
      "source": [
        "cor_=corpus_raw['text'].tolist()"
      ],
      "execution_count": null,
      "outputs": []
    },
    {
      "cell_type": "code",
      "metadata": {
        "id": "kWXA_VQebf4_",
        "outputId": "d6eb2be9-0eeb-4319-fb29-fa3a10eb359c",
        "colab": {
          "base_uri": "https://localhost:8080/",
          "height": 122
        }
      },
      "source": [
        "cor_[0:5]"
      ],
      "execution_count": null,
      "outputs": [
        {
          "output_type": "execute_result",
          "data": {
            "text/plain": [
              "['a brief history of chronic subdural hematomas examination of human remains tells us that subdural hematomas have been with mankind for thousands of years. their recognition as distinct clinical entities is considerably more recent, and it has only been in the last century that the cause of chronic subdural hematomas has been adequately elucidated. the history of this discovery process is interesting and sheds light on the nature of scientific progress in general.',\n",
              " 'a brief introductory guide to chronic pain resources on the internet the expanding internet has become an increasingly valuable tool for world wide sharing of information. health care professionals, patients, lay persons, family members and others are afforded instant access to masses of information and almost unlimited resources on virtually any topic, as well as an almost seamless vehicle for communication. this new medium offers tremendous implications for health care. however, the absence of a single clearinghouse, a single search procedure or guarantee of accuracy often make information access efforts challenging, confusing and frustrating. the present paper provides a brief introduction aimed at increasing appreciation of the internet and enhancing its utility with regard to chronic pain and its management and offers rudimentary guidelines for efficient accessing of information. finally, it presents the results of a comprehensive search including nearly 200 useful internet web links for professionals, patients, family members and other interested persons who assess, treat or cope with chronic pain. identified resources include numerous organizations, medical, psychological assessment and practical treatment strategies, assessment and treatment reviews, support groups, list serve groups for patients and professionals, advocacy resources, news and assistive technology resources. special emphasis is given to useful resources to assist professionals treating persons with chronic pain, as well as resources that can assist persons challenged by chronic pain.',\n",
              " 'a burgeoning family of biological mediators: chemokines and chemokine receptors. chemokines are a superfamily of pro-inflammatory polypeptide cytokines that selectively attract and activate different cell types. most of its members are small proteins that exhibit conserved cysteines in specific positions. chemokines activate cells through their binding to shared or unique cell surface receptors which belong to the seven-transmembrane (stm), g-protein-coupled receptors (gpcrs). the large number of chemokines and chemokine receptors are indicative of the importance of these molecules in a variety of pathophysiological conditions.',\n",
              " 'a cardiovascular est repertoire: progress and promise for understanding cardiovascular disease the application of expressed sequence tag (est) technology has proven to be an effective tool for gene discovery and the generation of gene expression profiles. the generation of an est resource for the cardiovascular system has revealed significant insights into the changes in gene expression that guide heart development and disease. furthermore, an important genetic resource has been developed for cardiovascular biology that is valuable for data mining and disease gene discovery.',\n",
              " 'a case of heart operation in infective endocarditis after brain surgery for mycotic cerebral aneurysm complications of infective aneurysm are not rare in patients with infective endocarditis. an optimal timing of heart operation after brain surgery for hemorrhage is controversial. we reported a 19-year-old woman with ventricular septal defect (type ii), mitral regurgitation and ruptured cerebral aneurysm with infective endocarditis. cerebral aneurysm had been ruptured during infective endocarditis treatment. resection of the aneurysm was performed next day. vessel spasm occurred, resulting in cerebral infarction 7 days after the operation. conservative therapy was continued for infective endocarditis until heart failure appeared. heart operation was successfully performed 41 days after brain surgery without cerebral complication. this report indicates that heart operation might be avoided at the early postoperative stage of brain surgery for cerebral aneurysm with hemorrhage.']"
            ]
          },
          "metadata": {
            "tags": []
          },
          "execution_count": 85
        }
      ]
    },
    {
      "cell_type": "code",
      "metadata": {
        "id": "HLoV3tAtl67-",
        "outputId": "8a766629-4bd2-4112-d552-4b8a53559724",
        "colab": {
          "base_uri": "https://localhost:8080/",
          "height": 34
        }
      },
      "source": [
        "texts = [[text for text in doc.split() ] for doc in cor_]\n",
        "len(texts)"
      ],
      "execution_count": null,
      "outputs": [
        {
          "output_type": "execute_result",
          "data": {
            "text/plain": [
              "14191"
            ]
          },
          "metadata": {
            "tags": []
          },
          "execution_count": 100
        }
      ]
    },
    {
      "cell_type": "code",
      "metadata": {
        "id": "IRogKSMrbf5u"
      },
      "source": [
        "#ONCE we have vectors\n",
        "#step 3 - build model\n",
        "#3 main tasks that vectors help with\n",
        "#DISTANCE, SIMILARITY, RANKING\n",
        "\n",
        "# Dimensionality of the resulting word vectors.\n",
        "#more dimensions, more computationally expensive to train\n",
        "#but also more accurate\n",
        "#more dimensions = more generalized\n",
        "num_features = 100\n",
        "# Minimum word count threshold.\n",
        "min_word_count = 3\n",
        "\n",
        "# Number of threads to run in parallel.\n",
        "#more workers, faster we train\n",
        "#num_workers = multiprocessing.cpu_count()\n",
        "\n",
        "# Context window length.\n",
        "context_size = 7\n",
        "\n",
        "# Downsample setting for frequent words.\n",
        "#0 - 1e-5 is good for this\n",
        "downsampling = 1e-3\n",
        "\n",
        "# Seed for the RNG, to make the results reproducible.\n",
        "#random number generator\n",
        "#deterministic, good for debugging\n",
        "seed = 1\n",
        "\n",
        "#No.of epochs for better output\n",
        "epochs=[10,20,30,40]"
      ],
      "execution_count": null,
      "outputs": []
    },
    {
      "cell_type": "code",
      "metadata": {
        "id": "tYI9Bcutbf6D"
      },
      "source": [
        "pharmagsk = w2v.Word2Vec(\n",
        "    sg=1,\n",
        "    seed=seed,\n",
        "    #workers=num_workers,\n",
        "    size=num_features,\n",
        "    min_count=min_word_count,\n",
        "    window=context_size,\n",
        "    sample=downsampling\n",
        ")"
      ],
      "execution_count": null,
      "outputs": []
    },
    {
      "cell_type": "code",
      "metadata": {
        "id": "AbSbD0bQbf6T"
      },
      "source": [
        "pharmagsk.build_vocab(texts)"
      ],
      "execution_count": null,
      "outputs": []
    },
    {
      "cell_type": "code",
      "metadata": {
        "id": "E3CFwW90dss0",
        "outputId": "85f6ecd4-dc7b-454f-dc30-847035c5c93b",
        "colab": {
          "base_uri": "https://localhost:8080/",
          "height": 34
        }
      },
      "source": [
        "pharmagsk.corpus_count"
      ],
      "execution_count": null,
      "outputs": [
        {
          "output_type": "execute_result",
          "data": {
            "text/plain": [
              "14191"
            ]
          },
          "metadata": {
            "tags": []
          },
          "execution_count": 104
        }
      ]
    },
    {
      "cell_type": "code",
      "metadata": {
        "id": "ESC-1L_fbf68"
      },
      "source": [
        "for i in epochs:\n",
        "  pharmagsk.train(texts,total_examples=pharmagsk.corpus_count,epochs=i)"
      ],
      "execution_count": null,
      "outputs": []
    },
    {
      "cell_type": "code",
      "metadata": {
        "id": "vaQ7uU3kzQRN"
      },
      "source": [
        "b='chronic'"
      ],
      "execution_count": null,
      "outputs": []
    },
    {
      "cell_type": "code",
      "metadata": {
        "id": "VSzq42oZ6Cut",
        "outputId": "c7fcc2d3-49f6-45ae-c3f9-302a56aaecfc",
        "colab": {
          "base_uri": "https://localhost:8080/",
          "height": 306
        }
      },
      "source": [
        "if b in pharmagsk.wv.vocab:\n",
        "  print(pharmagsk.wv.vectors[pharmagsk.wv.vocab[b].index])"
      ],
      "execution_count": null,
      "outputs": [
        {
          "output_type": "stream",
          "text": [
            "[ 0.02926139  0.11894154 -0.43172422  0.3941775  -0.25453475  0.5669756\n",
            " -0.00260353 -0.03653246 -0.17652377  0.42284     0.24382283 -0.45637468\n",
            " -0.26523596 -0.1403588  -0.22794169  0.20820461  0.16044448  0.18557121\n",
            " -0.12311112  0.04325409  0.29457116  0.4820068  -0.16346948 -0.2418752\n",
            "  0.2785789  -0.12129477  0.01898998  0.59689456  0.2566169  -0.14117394\n",
            "  0.06451523  0.23577549 -0.1580963   0.1411943   0.06514908  0.50975895\n",
            "  0.00681841 -0.0352709   0.19302554  0.28178486 -0.07555201 -0.26274517\n",
            " -0.06724749  0.02383017  0.25811687 -0.05715974 -0.07115567  0.16287768\n",
            "  0.25118792  0.2734697  -0.03735175 -0.02547218 -0.00718138  0.2557675\n",
            "  0.18293722  0.49846762 -0.5677376   0.11961586 -0.09588683 -0.19492786\n",
            "  0.0837229  -0.2193574  -0.7004658   0.23898841 -0.10851603  0.07856946\n",
            " -0.47815144  0.26879513 -0.22859313 -0.19897637  0.58177054  0.21968636\n",
            "  0.5549039   0.16519715 -0.24128677  0.36585137  0.2541668   0.24354097\n",
            "  0.21672046 -0.28525817 -0.21420652  0.3434877   0.04924006 -0.12663181\n",
            "  0.23149498 -0.41404238  0.01186748 -0.44581932  0.12031077  0.43587953\n",
            " -0.34699214  0.20315833 -0.00179698 -0.02635793  0.37909046  0.36772108\n",
            " -0.11275248 -0.12664358  0.11127459  0.49149564]\n"
          ],
          "name": "stdout"
        }
      ]
    },
    {
      "cell_type": "code",
      "metadata": {
        "id": "hnCI_XABx94-",
        "outputId": "4fc51511-efff-4ab0-b6ab-637aabd4eece",
        "colab": {
          "base_uri": "https://localhost:8080/",
          "height": 306
        }
      },
      "source": [
        "if b in pharmagsk.wv.vocab:\n",
        "  print(pharmagsk.wv.vectors[pharmagsk.wv.vocab[b].index])\n",
        ""
      ],
      "execution_count": null,
      "outputs": [
        {
          "output_type": "stream",
          "text": [
            "[-0.19669081  0.4978629   0.18501377  0.33509904  0.4589127   0.346253\n",
            " -0.08552386 -0.24550979 -0.5142983   0.3008762   0.14075744 -0.04930563\n",
            "  0.26282397 -0.10888796 -0.20225552 -0.13694367  0.00603192 -0.22520459\n",
            "  0.11047123  0.237657    0.42666456 -0.041443    0.14735852  0.18541898\n",
            "  0.195562    0.01864726  0.12560377  0.17470758 -0.14665695  0.22442062\n",
            "  0.14051782  0.2453686  -0.8732784  -0.01069951  0.07579429  0.3093491\n",
            " -0.09929724  0.20449367  0.1741212   0.46539962  0.23681553 -0.33372253\n",
            "  0.6497519  -0.02919425  0.04241309 -0.4432087  -0.4915131   0.24205956\n",
            "  0.77244043  0.4585698  -0.21144326  0.16284968  0.3211463   0.2267632\n",
            "  0.17676342  0.7090521   0.04661781 -0.0666214  -0.3406798  -0.03187489\n",
            " -0.18747585 -0.5353616   0.16184154  0.10570394  0.20716242  0.88199484\n",
            "  0.26169398  0.19917053 -0.1480978  -0.35351726  0.45257527  0.12429972\n",
            "  0.15434752 -0.43021327  0.18573546 -0.19207361  0.38120937 -0.13191113\n",
            " -0.20868723 -0.06772467 -0.30094215 -0.13384216  0.18800029 -0.38935477\n",
            "  0.02752067 -0.27086744  0.10680439 -0.985297    0.53031754  0.6124016\n",
            " -0.46204636 -0.3688116   0.20428376 -0.34012786 -0.51460826  0.3860364\n",
            "  0.07115556 -0.0961765  -0.05596766  0.7527301 ]\n"
          ],
          "name": "stdout"
        }
      ]
    },
    {
      "cell_type": "code",
      "metadata": {
        "id": "nLhCnkmvAPkU"
      },
      "source": [
        "https://radimrehurek.com/gensim/models/word2vec.html"
      ],
      "execution_count": null,
      "outputs": []
    },
    {
      "cell_type": "code",
      "metadata": {
        "id": "ET92tSEXebUG",
        "outputId": "3227bfcd-256f-4643-9a1b-4fbd78d8df0f",
        "colab": {
          "base_uri": "https://localhost:8080/",
          "height": 105
        }
      },
      "source": [
        "a=pharmagsk.similar_by_word('Pain',topn=20)"
      ],
      "execution_count": null,
      "outputs": [
        {
          "output_type": "stream",
          "text": [
            "/usr/local/lib/python3.6/dist-packages/ipykernel_launcher.py:1: DeprecationWarning: Call to deprecated `similar_by_word` (Method will be removed in 4.0.0, use self.wv.similar_by_word() instead).\n",
            "  \"\"\"Entry point for launching an IPython kernel.\n",
            "/usr/local/lib/python3.6/dist-packages/gensim/matutils.py:737: FutureWarning: Conversion of the second argument of issubdtype from `int` to `np.signedinteger` is deprecated. In future, it will be treated as `np.int64 == np.dtype(int).type`.\n",
            "  if np.issubdtype(vec.dtype, np.int):\n"
          ],
          "name": "stderr"
        }
      ]
    },
    {
      "cell_type": "code",
      "metadata": {
        "id": "n70wNSRJebPA",
        "outputId": "b9626c1e-6aa4-4ceb-f270-16dd0205108b",
        "colab": {
          "base_uri": "https://localhost:8080/",
          "height": 357
        }
      },
      "source": [
        "for i in range(len(a)):\n",
        "  print(a[i][0])"
      ],
      "execution_count": null,
      "outputs": [
        {
          "output_type": "stream",
          "text": [
            "Neuropathic\n",
            "Back\n",
            "Symptoms\n",
            "Spasticity\n",
            "pain\n",
            "Daily\n",
            "Lower\n",
            "Neck\n",
            "Scale.\n",
            "Opioid\n",
            "Symptom\n",
            "Depression\n",
            "Oswestry\n",
            "Joint\n",
            "Clinic.\n",
            "Peroneal\n",
            "Disability\n",
            "MEASURES:\n",
            "Restless\n",
            "Scale\n"
          ],
          "name": "stdout"
        }
      ]
    },
    {
      "cell_type": "code",
      "metadata": {
        "id": "3b5JN_lNbf5G"
      },
      "source": [
        "tokenizer = nltk.data.load('tokenizers/punkt/english.pickle')"
      ],
      "execution_count": null,
      "outputs": []
    },
    {
      "cell_type": "code",
      "metadata": {
        "id": "oQF6llyeYm4N"
      },
      "source": [
        "word=[]\n",
        "for doc in cor_:\n",
        "  for text in doc.split():\n",
        "    if text not in word:\n",
        "      word.append(text)\n"
      ],
      "execution_count": null,
      "outputs": []
    },
    {
      "cell_type": "code",
      "metadata": {
        "id": "2CXe_A3pZJT3",
        "outputId": "76d203ff-7695-4ee5-ab88-31a54312e860",
        "colab": {
          "base_uri": "https://localhost:8080/",
          "height": 34
        }
      },
      "source": [
        "len(word)"
      ],
      "execution_count": null,
      "outputs": [
        {
          "output_type": "execute_result",
          "data": {
            "text/plain": [
              "327"
            ]
          },
          "metadata": {
            "tags": []
          },
          "execution_count": 19
        }
      ]
    },
    {
      "cell_type": "code",
      "metadata": {
        "id": "OFs4KbDmbf5N"
      },
      "source": [
        "texts = [[text for text in doc.split() ] for doc in cor_]\n",
        "texts"
      ],
      "execution_count": null,
      "outputs": []
    },
    {
      "cell_type": "code",
      "metadata": {
        "id": "suNydkTJbf5U"
      },
      "source": [
        "#convert into a list of words\n",
        "#rtemove unnnecessary,, split into words, no hyphens\n",
        "#list of words\n",
        "def sentence_to_wordlist(raw):\n",
        "    clean = re.sub(\"[^a-zA-Z]\",\" \", raw)\n",
        "    words = clean.split()\n",
        "    return words"
      ],
      "execution_count": null,
      "outputs": []
    },
    {
      "cell_type": "code",
      "metadata": {
        "id": "u-49TDf-bf5b"
      },
      "source": [
        "#sentence where each word is tokenized\n",
        "sentences = []\n",
        "for raw_sentence in texts:\n",
        "    if len(raw_sentence) > 0:\n",
        "        sentences.append(sentence_to_wordlist(raw_sentence))"
      ],
      "execution_count": null,
      "outputs": []
    },
    {
      "cell_type": "code",
      "metadata": {
        "id": "15jCpM0Qbf5h"
      },
      "source": [
        "print(raw_sentences[5])\n",
        "print(sentence_to_wordlist(raw_sentences[5]))"
      ],
      "execution_count": null,
      "outputs": []
    },
    {
      "cell_type": "code",
      "metadata": {
        "id": "lzwkBb2gbf5n"
      },
      "source": [
        "token_count = sum([len(sentence) for sentence in sentences])\n",
        "print(\"The book corpus contains {0:,} tokens\".format(token_count))"
      ],
      "execution_count": null,
      "outputs": []
    },
    {
      "cell_type": "code",
      "metadata": {
        "id": "vms5GzxQbf6h"
      },
      "source": [
        "print(\"Word2Vec vocabulary length:\", len(pharmagsk.vocab))"
      ],
      "execution_count": null,
      "outputs": []
    },
    {
      "cell_type": "code",
      "metadata": {
        "id": "mcpAcTCGbf7E"
      },
      "source": [
        "if not os.path.exists(\"trained\"):\n",
        "    os.makedirs(\"trained\")"
      ],
      "execution_count": null,
      "outputs": []
    },
    {
      "cell_type": "code",
      "metadata": {
        "id": "dZbaFKvLbf7M"
      },
      "source": [
        "pharmagsk.save(os.path.join(\"trained\", \"pharmagsk.w2v\"))"
      ],
      "execution_count": null,
      "outputs": []
    },
    {
      "cell_type": "code",
      "metadata": {
        "id": "e0Lp5_Szbf7R"
      },
      "source": [
        "pharmagsk = w2v.Word2Vec.load(os.path.join(\"trained\", \"pharmagsk.w2v\"))"
      ],
      "execution_count": null,
      "outputs": []
    },
    {
      "cell_type": "code",
      "metadata": {
        "id": "pPgTKz8fbf7W"
      },
      "source": [
        "#my video - how to visualize a dataset easily\n",
        "tsne = sklearn.manifold.TSNE(n_components=2, random_state=0)"
      ],
      "execution_count": null,
      "outputs": []
    },
    {
      "cell_type": "code",
      "metadata": {
        "id": "4clG2ERubf7b"
      },
      "source": [
        "all_word_vectors_matrix = pharmagsk.syn0"
      ],
      "execution_count": null,
      "outputs": []
    },
    {
      "cell_type": "code",
      "metadata": {
        "id": "8Slo2A_Lbf7h"
      },
      "source": [
        "all_word_vectors_matrix_2d = tsne.fit_transform(all_word_vectors_matrix)"
      ],
      "execution_count": null,
      "outputs": []
    },
    {
      "cell_type": "code",
      "metadata": {
        "id": "p94YaD8nbf7o"
      },
      "source": [
        "points = pd.DataFrame(\n",
        "    [\n",
        "        (word, coords[0], coords[1])\n",
        "        for word, coords in [\n",
        "            (word, all_word_vectors_matrix_2d[pharmagsk.vocab[word].index])\n",
        "            for word in pharmagsk.vocab\n",
        "        ]\n",
        "    ],\n",
        "    columns=[\"word\", \"x\", \"y\"]\n",
        ")"
      ],
      "execution_count": null,
      "outputs": []
    },
    {
      "cell_type": "code",
      "metadata": {
        "id": "sOWzzGoabf7t"
      },
      "source": [
        "points.head(10)"
      ],
      "execution_count": null,
      "outputs": []
    },
    {
      "cell_type": "code",
      "metadata": {
        "id": "a0bMW-aObf70"
      },
      "source": [
        "sns.set_context(\"poster\")"
      ],
      "execution_count": null,
      "outputs": []
    },
    {
      "cell_type": "code",
      "metadata": {
        "id": "GziMBwkzbf74"
      },
      "source": [
        "points.plot.scatter(\"x\", \"y\", s=10, figsize=(20, 12))"
      ],
      "execution_count": null,
      "outputs": []
    },
    {
      "cell_type": "code",
      "metadata": {
        "id": "5ew2WnMubf7-"
      },
      "source": [
        "def plot_region(x_bounds, y_bounds):\n",
        "    slice = points[\n",
        "        (x_bounds[0] <= points.x) &\n",
        "        (points.x <= x_bounds[1]) &\n",
        "        (y_bounds[0] <= points.y) &\n",
        "        (points.y <= y_bounds[1])\n",
        "    ]\n",
        "\n",
        "    ax = slice.plot.scatter(\"x\", \"y\", s=35, figsize=(10, 8))\n",
        "    for i, point in slice.iterrows():\n",
        "        ax.text(point.x + 0.005, point.y + 0.005, point.word, fontsize=11)"
      ],
      "execution_count": null,
      "outputs": []
    },
    {
      "cell_type": "code",
      "metadata": {
        "id": "grnpOE4jbf8E"
      },
      "source": [
        "plot_region(x_bounds=(4.0, 4.2), y_bounds=(-0.5, -0.1))"
      ],
      "execution_count": null,
      "outputs": []
    },
    {
      "cell_type": "code",
      "metadata": {
        "id": "jKazHNo4bf8J"
      },
      "source": [
        "plot_region(x_bounds=(0, 1), y_bounds=(4, 4.5))"
      ],
      "execution_count": null,
      "outputs": []
    },
    {
      "cell_type": "code",
      "metadata": {
        "id": "MG5pocCfbf8O"
      },
      "source": [
        "pharmagsk.most_similar(\"pain\")"
      ],
      "execution_count": null,
      "outputs": []
    }
  ]
}